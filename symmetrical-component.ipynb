{
 "cells": [
  {
   "cell_type": "markdown",
   "id": "2f86a206",
   "metadata": {},
   "source": [
    "# Symmetrical components"
   ]
  },
  {
   "cell_type": "code",
   "execution_count": 1,
   "id": "4ec960e1",
   "metadata": {},
   "outputs": [],
   "source": [
    "from IPython.display import IFrame, display"
   ]
  },
  {
   "cell_type": "code",
   "execution_count": 2,
   "id": "42f7b489",
   "metadata": {},
   "outputs": [
    {
     "data": {
      "text/html": [
       "\n",
       "        <iframe\n",
       "            width=\"600\"\n",
       "            height=\"500\"\n",
       "            src=\"https://en.wikipedia.org/wiki/Symmetrical_components\"\n",
       "            frameborder=\"0\"\n",
       "            allowfullscreen\n",
       "        ></iframe>\n",
       "        "
      ],
      "text/plain": [
       "<IPython.lib.display.IFrame at 0x220a70e5d30>"
      ]
     },
     "execution_count": 2,
     "metadata": {},
     "output_type": "execute_result"
    }
   ],
   "source": [
    "filepath=\"https://en.wikipedia.org/wiki/Symmetrical_components\"\n",
    "IFrame(filepath, width=600, height=500)"
   ]
  },
  {
   "cell_type": "markdown",
   "id": "f4734956",
   "metadata": {},
   "source": [
    "### Import library"
   ]
  },
  {
   "cell_type": "code",
   "execution_count": 3,
   "id": "73ff139e",
   "metadata": {},
   "outputs": [],
   "source": [
    "import numpy as np\n",
    "import matplotlib.pyplot as plt"
   ]
  },
  {
   "cell_type": "code",
   "execution_count": 4,
   "id": "79fa625f",
   "metadata": {},
   "outputs": [
    {
     "name": "stdout",
     "output_type": "stream",
     "text": [
      "[[ 20.   -11.667j  20.   -11.667j  20.   -11.667j]\n",
      " [ 50.104+17.38j  -10.   -52.081j -40.104+34.701j]\n",
      " [ 29.896 -5.714j -10.   +28.748j -19.896-23.034j]]\n"
     ]
    }
   ],
   "source": [
    "#magnitude_A=float(input(\"Enter magnitude of phase A :\"))\n",
    "magnitude_A=100\n",
    "#angle_A=float(input(\"Enter angle of phase A (degree) :\"))\n",
    "angle_A=0\n",
    "\n",
    "#magnitude_B=float(input(\"Enter magnitude of phase B :\"))\n",
    "magnitude_B=35\n",
    "#angle_B=float(input(\"Enter angle of phase B (degree) :\"))\n",
    "angle_B=-90\n",
    "\n",
    "#magnitude_C=float(input(\"Enter magnitude of phase C :\"))\n",
    "magnitude_C=40\n",
    "#angle_C=float(input(\"Enter angle of phase C (degree) :\"))\n",
    "angle_C=180\n",
    "#phasor to cartesian conversion\n",
    "def phasor2cart(r, theta):\n",
    "    theta_rad=(np.pi/180)*theta\n",
    "    return r*np.exp(1j*theta_rad)\n",
    "# convert cartesian to phasor\n",
    "def cart2phasor(z):\n",
    "    return (np.abs(z), (180/np.pi)*np.angle(z))\n",
    "\n",
    "a=phasor2cart(1,120)\n",
    "\n",
    "A=np.array([[1, 1, 1], [1, a**2, a], [1, a, a**2]])\n",
    "\n",
    "unbalanced=np.array([phasor2cart(magnitude_A, angle_A), \n",
    "                    phasor2cart(magnitude_B, angle_B), \n",
    "                    phasor2cart(magnitude_C, angle_C)])\n",
    "inverse_A=np.linalg.inv(A)\n",
    "\n",
    "sequence_components_A=np.dot(inverse_A, unbalanced)\n",
    "\n",
    "# positive negative and zero sequence components of phase A\n",
    "Va_zero=sequence_components_A[0]\n",
    "Va_pos=sequence_components_A[1]\n",
    "Va_neg=sequence_components_A[2]\n",
    "\n",
    "# positive negative and zero sequence components of phase B\n",
    "Vb_zero=Va_zero\n",
    "Vb_pos=a**2*Va_pos\n",
    "Vb_neg=a*Va_neg\n",
    "# positive negative and zero sequence components of phase C\n",
    "Vc_zero=Va_zero\n",
    "Vc_pos=a*Va_pos\n",
    "Vc_neg=a**2*Va_neg\n",
    "#define vector plot function\n",
    "all_components=np.array([[Va_zero, Vb_zero, Vc_zero], \n",
    "                         [Va_pos, Vb_pos, Vc_pos], \n",
    "                         [Va_neg, Vb_neg, Vc_neg]])\n",
    "print(np.around(all_components, 3))"
   ]
  },
  {
   "cell_type": "markdown",
   "id": "83834b85",
   "metadata": {},
   "source": [
    "# Plot"
   ]
  },
  {
   "cell_type": "code",
   "execution_count": 5,
   "id": "5d32c2ac",
   "metadata": {},
   "outputs": [
    {
     "data": {
      "text/plain": [
       "<matplotlib.legend.Legend at 0x220a9949c70>"
      ]
     },
     "execution_count": 5,
     "metadata": {},
     "output_type": "execute_result"
    },
    {
     "data": {
      "image/png": "[encoded data removed]",
      "text/plain": [
       "<Figure size 432x288 with 1 Axes>"
      ]
     },
     "metadata": {
      "needs_background": "light"
     },
     "output_type": "display_data"
    }
   ],
   "source": [
    "#Original unbalanced 3-phase vector plot\n",
    "fig,ax=plt.subplots()\n",
    "ax.quiver(0, 0, unbalanced[0].real, unbalanced[0].imag, color=\"red\", \n",
    "          scale_units=\"xy\", \n",
    "          angles=\"xy\", \n",
    "          scale=1, \n",
    "          label=\"Phase A\")\n",
    "ax.quiver(0, 0, unbalanced[1].real, unbalanced[1].imag, color=\"blue\", \n",
    "          scale_units=\"xy\",\n",
    "          angles=\"xy\",\n",
    "          scale=1, \n",
    "          label=\"Phase B\")\n",
    "ax.quiver(0, 0, unbalanced[2].real, unbalanced[2].imag, color=\"green\",\n",
    "          scale_units=\"xy\",\n",
    "          angles=\"xy\",\n",
    "          scale=1, \n",
    "          label=\"Phase C\")\n",
    "# Phase A symmetrical components plot\n",
    "ax.quiver(0,0,Va_pos.real, Va_pos.imag, scale_units=\"xy\", \n",
    "          angles=\"xy\", scale=1, color=\"red\")\n",
    "ax.quiver(Va_pos.real,Va_pos.imag,Va_neg.real, Va_neg.imag, scale_units=\"xy\", \n",
    "          angles=\"xy\", scale=1, color=\"red\")\n",
    "ax.quiver(Va_pos.real+Va_neg.real,Va_pos.imag+Va_neg.imag,Va_zero.real, Va_zero.imag, scale_units=\"xy\", \n",
    "          angles=\"xy\", scale=1, color=\"red\")\n",
    "# Phase B symmetrical components plot\n",
    "ax.quiver(0,0,Vb_pos.real, Vb_pos.imag, scale_units=\"xy\", \n",
    "          angles=\"xy\", scale=1, color=\"blue\")\n",
    "ax.quiver(Vb_pos.real,Vb_pos.imag,Vb_neg.real, Vb_neg.imag, scale_units=\"xy\", \n",
    "          angles=\"xy\", scale=1, color=\"blue\")\n",
    "ax.quiver(Vb_pos.real+Vb_neg.real,Vb_pos.imag+Vb_neg.imag,Vb_zero.real, Vb_zero.imag, scale_units=\"xy\", \n",
    "          angles=\"xy\", scale=1, color=\"blue\")\n",
    "# Phase C symmetrical components plot\n",
    "ax.quiver(0,0,Vc_pos.real, Vc_pos.imag, scale_units=\"xy\", \n",
    "          angles=\"xy\", scale=1, color=\"green\")\n",
    "ax.quiver(Vc_pos.real,Vc_pos.imag,Vc_neg.real, Vc_neg.imag, scale_units=\"xy\", \n",
    "          angles=\"xy\", scale=1, color=\"green\")\n",
    "ax.quiver(Vc_pos.real+Vc_neg.real,Vc_pos.imag+Vc_neg.imag,Vc_zero.real, Vc_zero.imag, scale_units=\"xy\", \n",
    "          angles=\"xy\", scale=1, color=\"green\")\n",
    " \n",
    "\n",
    "max_lim=np.abs(unbalanced).max()\n",
    "ax.set_xlim(-1.1*max_lim, 1.1*max_lim)\n",
    "ax.set_ylim(-1.1*max_lim, 1.1*max_lim)\n",
    "ax.set_xlabel(\"Real axis\")\n",
    "ax.set_ylabel(\"Imaginary axis\")\n",
    "ax.set_title(\"Phasors Plot of Symmetrical Components\")\n",
    "plt.legend(frameon=False)"
   ]
  },
  {
   "cell_type": "code",
   "execution_count": null,
   "id": "a72523df",
   "metadata": {},
   "outputs": [],
   "source": []
  }
 ],
 "metadata": {
  "kernelspec": {
   "display_name": "Python 3",
   "language": "python",
   "name": "python3"
  },
  "language_info": {
   "codemirror_mode": {
    "name": "ipython",
    "version": 3
   },
   "file_extension": ".py",
   "mimetype": "text/x-python",
   "name": "python",
   "nbconvert_exporter": "python",
   "pygments_lexer": "ipython3",
   "version": "3.8.5"
  }
 },
 "nbformat": 4,
 "nbformat_minor": 5
}
